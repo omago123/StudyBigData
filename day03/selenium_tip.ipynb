{
 "cells": [
  {
   "cell_type": "code",
   "execution_count": 49,
   "metadata": {},
   "outputs": [],
   "source": [
    "import time\n",
    "import requests\n",
    "import matplotlib\n",
    "import matplotlib.pyplot as plt\n",
    "import numpy as np\n",
    "import seaborn as sn\n",
    "\n",
    "import pandas as pd\n",
    "from selenium import webdriver\n",
    "from matplotlib import rc\n",
    "from bs4 import BeautifulSoup\n",
    "from urllib.request import urlopen\n",
    "from matplotlib import rcParams"
   ]
  },
  {
   "cell_type": "code",
   "execution_count": 50,
   "metadata": {},
   "outputs": [
    {
     "name": "stderr",
     "output_type": "stream",
     "text": [
      "C:\\Users\\admin\\AppData\\Local\\Temp\\ipykernel_4112\\2570755435.py:3: DeprecationWarning: executable_path has been deprecated, please pass in a Service object\n",
      "  wd = webdriver.Chrome('./chromedriver.exe',options=options)\n"
     ]
    }
   ],
   "source": [
    "\n",
    "options = webdriver.ChromeOptions()\n",
    "options.add_experimental_option(\"excludeSwitches\", [\"enable-logging\"])\n",
    "wd = webdriver.Chrome('./chromedriver.exe',options=options)\n",
    "    "
   ]
  },
  {
   "cell_type": "code",
   "execution_count": 51,
   "metadata": {},
   "outputs": [],
   "source": [
    "plt.rcParams['axes.unicode_minus'] = False\n",
    "rcParams['font.family'] = 'Malgun Gothic'"
   ]
  },
  {
   "cell_type": "code",
   "execution_count": 52,
   "metadata": {},
   "outputs": [],
   "source": [
    "start_url = 'https://www.starbucks.co.kr/store/store_map.do'\n",
    "wd.get(start_url)"
   ]
  },
  {
   "cell_type": "code",
   "execution_count": 53,
   "metadata": {},
   "outputs": [],
   "source": [
    "# selenium 4 버젼 변경되면서 함수원형 수정됨\n",
    "# 새 패키지 추가\n",
    "from selenium.webdriver.common.by import By\n"
   ]
  },
  {
   "cell_type": "code",
   "execution_count": 54,
   "metadata": {},
   "outputs": [],
   "source": [
    "# wd.find_element_by_xpath('//*[@id=\"container\"]/div/form/fieldset/div/section/article[1]/article/header[2]/h3/a').click()   #selenium 3   \n",
    "wd.find_element(By.XPATH,'//*[@id=\"container\"]/div/form/fieldset/div/section/article[1]/article/header[2]/h3/a').click()\n",
    "time.sleep(2)\n",
    "wd.find_element(By.XPATH,'//*[@id=\"container\"]/div/form/fieldset/div/section/article[1]/article/article[2]/div[1]/div[2]/ul/li[1]/a').click()\n",
    "time.sleep(2)\n",
    "wd.find_element(By.XPATH,'//*[@id=\"mCSB_2_container\"]/ul/li[1]/a').click()"
   ]
  },
  {
   "cell_type": "code",
   "execution_count": 55,
   "metadata": {},
   "outputs": [
    {
     "data": {
      "text/plain": [
       "(588,\n",
       " <li class=\"quickResultLstCon\" data-code=\"3762\" data-hlytag=\"null\" data-index=\"0\" data-lat=\"37.501087\" data-long=\"127.043069\" data-name=\"역삼아레나빌딩\" data-storecd=\"1509\" style=\"background:#fff\"> <strong data-my_siren_order_store_yn=\"N\" data-name=\"역삼아레나빌딩\" data-store=\"1509\" data-yn=\"N\">역삼아레나빌딩  </strong> <p class=\"result_details\">서울특별시 강남구 언주로 425 (역삼동)<br/>1522-3232</p> <i class=\"pin_general\">리저브 매장 2번</i></li>)"
      ]
     },
     "execution_count": 55,
     "metadata": {},
     "output_type": "execute_result"
    }
   ],
   "source": [
    "req = wd.page_source\n",
    "soup = BeautifulSoup(req, \"html.parser\")\n",
    "info = soup.find(\"div\", id = \"mCSB_3_container\").find_all(\"li\", class_ = 'quickResultLstCon')\n",
    "len(info), info[0]"
   ]
  },
  {
   "cell_type": "code",
   "execution_count": 56,
   "metadata": {},
   "outputs": [
    {
     "data": {
      "text/plain": [
       "('역삼아레나빌딩', '서울특별시 강남구 언주로 425 (역삼동)', '강남구')"
      ]
     },
     "execution_count": 56,
     "metadata": {},
     "output_type": "execute_result"
    }
   ],
   "source": [
    "name = info[0].find(\"strong\").text.strip()\n",
    "address = info[0].find(class_=\"result_details\").text.strip()[:-9]\n",
    "place = address.split(\" \")[1]\n",
    "\n",
    "name, address, place"
   ]
  },
  {
   "cell_type": "code",
   "execution_count": 57,
   "metadata": {},
   "outputs": [
    {
     "data": {
      "text/plain": [
       "588"
      ]
     },
     "execution_count": 57,
     "metadata": {},
     "output_type": "execute_result"
    }
   ],
   "source": [
    "star_info = []\n",
    "for item in info :\n",
    "    name = item.find(\"strong\").text.strip()\n",
    "    address = item.find(class_=\"result_details\").text.strip()[:-9]\n",
    "    place = address.split(\" \")[1]\n",
    "   \n",
    "    data = {\n",
    "        \"가게명\" : name,\n",
    "        \"주소\" : address,\n",
    "        \"구\" : place\n",
    "    }\n",
    "    star_info.append(data)\n",
    "len(star_info)"
   ]
  },
  {
   "cell_type": "code",
   "execution_count": 58,
   "metadata": {},
   "outputs": [
    {
     "data": {
      "text/html": [
       "<div>\n",
       "<style scoped>\n",
       "    .dataframe tbody tr th:only-of-type {\n",
       "        vertical-align: middle;\n",
       "    }\n",
       "\n",
       "    .dataframe tbody tr th {\n",
       "        vertical-align: top;\n",
       "    }\n",
       "\n",
       "    .dataframe thead th {\n",
       "        text-align: right;\n",
       "    }\n",
       "</style>\n",
       "<table border=\"1\" class=\"dataframe\">\n",
       "  <thead>\n",
       "    <tr style=\"text-align: right;\">\n",
       "      <th></th>\n",
       "      <th>가게명</th>\n",
       "      <th>구</th>\n",
       "      <th>주소</th>\n",
       "    </tr>\n",
       "  </thead>\n",
       "  <tbody>\n",
       "    <tr>\n",
       "      <th>583</th>\n",
       "      <td>중랑구청</td>\n",
       "      <td>중랑구</td>\n",
       "      <td>서울특별시 중랑구 신내로 72</td>\n",
       "    </tr>\n",
       "    <tr>\n",
       "      <th>584</th>\n",
       "      <td>사가정역</td>\n",
       "      <td>중랑구</td>\n",
       "      <td>서울특별시 중랑구 면목로 310</td>\n",
       "    </tr>\n",
       "    <tr>\n",
       "      <th>585</th>\n",
       "      <td>상봉역</td>\n",
       "      <td>중랑구</td>\n",
       "      <td>서울특별시 중랑구 망우로 307 (상봉동)</td>\n",
       "    </tr>\n",
       "    <tr>\n",
       "      <th>586</th>\n",
       "      <td>묵동</td>\n",
       "      <td>중랑구</td>\n",
       "      <td>서울특별시 중랑구 동일로 952 (묵동, 로프트원 태릉입구역) 1층</td>\n",
       "    </tr>\n",
       "    <tr>\n",
       "      <th>587</th>\n",
       "      <td>중화역</td>\n",
       "      <td>중랑구</td>\n",
       "      <td>서울특별시 중랑구 봉화산로 35</td>\n",
       "    </tr>\n",
       "  </tbody>\n",
       "</table>\n",
       "</div>"
      ],
      "text/plain": [
       "      가게명    구                                     주소\n",
       "583  중랑구청  중랑구                       서울특별시 중랑구 신내로 72\n",
       "584  사가정역  중랑구                      서울특별시 중랑구 면목로 310\n",
       "585   상봉역  중랑구                서울특별시 중랑구 망우로 307 (상봉동)\n",
       "586    묵동  중랑구  서울특별시 중랑구 동일로 952 (묵동, 로프트원 태릉입구역) 1층\n",
       "587   중화역  중랑구                     서울특별시 중랑구 봉화산로 35 "
      ]
     },
     "execution_count": 58,
     "metadata": {},
     "output_type": "execute_result"
    }
   ],
   "source": [
    "df_star = pd.DataFrame(star_info, columns = ['가게명', '구', '주소'])\n",
    "df_star.tail()"
   ]
  },
  {
   "cell_type": "code",
   "execution_count": 59,
   "metadata": {},
   "outputs": [
    {
     "data": {
      "text/plain": [
       "['강동구',\n",
       " '중랑구',\n",
       " '동작구',\n",
       " '금천구',\n",
       " '서초구',\n",
       " '성동구',\n",
       " '강서구',\n",
       " '용산구',\n",
       " '영등포구',\n",
       " '동대문구',\n",
       " '종로구',\n",
       " '광진구',\n",
       " '관악구',\n",
       " '도봉구',\n",
       " '성북구',\n",
       " '은평구',\n",
       " '중구',\n",
       " '구로구',\n",
       " '마포구',\n",
       " '강북구',\n",
       " '노원구',\n",
       " '서대문구',\n",
       " '송파구',\n",
       " '강남구',\n",
       " '양천구']"
      ]
     },
     "execution_count": 59,
     "metadata": {},
     "output_type": "execute_result"
    }
   ],
   "source": [
    "gu_list = list(set(df_star[\"구\"]))\n",
    "gu_list"
   ]
  },
  {
   "cell_type": "code",
   "execution_count": 60,
   "metadata": {},
   "outputs": [
    {
     "name": "stderr",
     "output_type": "stream",
     "text": [
      "C:\\Users\\admin\\AppData\\Local\\Temp\\ipykernel_4112\\1272565966.py:2: DeprecationWarning: executable_path has been deprecated, please pass in a Service object\n",
      "  wd = webdriver.Chrome(\"./chromedriver.exe\",options=options)\n"
     ]
    }
   ],
   "source": [
    "edi_url = \"https://www.ediya.com/contents/find_store.html\"\n",
    "wd = webdriver.Chrome(\"./chromedriver.exe\",options=options)\n",
    "wd.get(edi_url)"
   ]
  },
  {
   "cell_type": "code",
   "execution_count": 36,
   "metadata": {},
   "outputs": [
    {
     "data": {
      "text/plain": [
       "691"
      ]
     },
     "execution_count": 36,
     "metadata": {},
     "output_type": "execute_result"
    }
   ],
   "source": [
    "edi_info = []\n",
    "\n",
    "\n",
    "\n",
    "for gu in gu_list:\n",
    "    wd.find_element(By.XPATH,'//*[@id=\"contentWrap\"]/div[3]/div/div[1]/ul/li[2]/a').click()\n",
    "    wd.find_element(By.XPATH,'//*[@id=\"keyword\"]').clear\n",
    "    wd.find_element(By.XPATH,'//*[@id=\"keyword\"]').send_keys(\"서울 \" + gu)\n",
    "    wd.find_element(By.XPATH,'//*[@id=\"keyword_div\"]/form/button').click()\n",
    "    \n",
    "    html = wd.page_source\n",
    "    soup = BeautifulSoup(html, \"html.parser\")\n",
    "    \n",
    "    info = soup.find(\"ul\", id = \"placesList\").find_all(\"li\", class_='item')\n",
    "    \n",
    "    for item in info:\n",
    "        name = item.find(\"dt\").text\n",
    "        address = item.find(\"dd\").text.strip()\n",
    "        place = address.split(\" \")[1]\n",
    "        \n",
    "\n",
    "        data = {\n",
    "            \"가게명\" : name,\n",
    "            \"구\" : place,\n",
    "            \"주소\" : address,\n",
    "        }\n",
    "        edi_info.append(data)\n",
    " \n",
    "len(edi_info)"
   ]
  },
  {
   "cell_type": "code",
   "execution_count": 61,
   "metadata": {},
   "outputs": [
    {
     "data": {
      "text/html": [
       "<div>\n",
       "<style scoped>\n",
       "    .dataframe tbody tr th:only-of-type {\n",
       "        vertical-align: middle;\n",
       "    }\n",
       "\n",
       "    .dataframe tbody tr th {\n",
       "        vertical-align: top;\n",
       "    }\n",
       "\n",
       "    .dataframe thead th {\n",
       "        text-align: right;\n",
       "    }\n",
       "</style>\n",
       "<table border=\"1\" class=\"dataframe\">\n",
       "  <thead>\n",
       "    <tr style=\"text-align: right;\">\n",
       "      <th></th>\n",
       "      <th>가게명</th>\n",
       "      <th>구</th>\n",
       "      <th>주소</th>\n",
       "    </tr>\n",
       "  </thead>\n",
       "  <tbody>\n",
       "    <tr>\n",
       "      <th>686</th>\n",
       "      <td>청담사거리점</td>\n",
       "      <td>강남구</td>\n",
       "      <td>서울 강남구 도산대로 521 (청담동)</td>\n",
       "    </tr>\n",
       "    <tr>\n",
       "      <th>687</th>\n",
       "      <td>청담역점</td>\n",
       "      <td>강남구</td>\n",
       "      <td>서울 강남구 삼성로 721 (청담동, 룩희 819)</td>\n",
       "    </tr>\n",
       "    <tr>\n",
       "      <th>688</th>\n",
       "      <td>포이사거리점</td>\n",
       "      <td>강남구</td>\n",
       "      <td>서울 강남구 개포로 218 (개포동)</td>\n",
       "    </tr>\n",
       "    <tr>\n",
       "      <th>689</th>\n",
       "      <td>학동역점</td>\n",
       "      <td>강남구</td>\n",
       "      <td>서울 강남구 학동로 219 (논현동, 국제빌딩)</td>\n",
       "    </tr>\n",
       "    <tr>\n",
       "      <th>690</th>\n",
       "      <td>한티역점</td>\n",
       "      <td>강남구</td>\n",
       "      <td>서울 강남구 도곡로69길 8 (대치동)</td>\n",
       "    </tr>\n",
       "  </tbody>\n",
       "</table>\n",
       "</div>"
      ],
      "text/plain": [
       "        가게명    구                            주소\n",
       "686  청담사거리점  강남구         서울 강남구 도산대로 521 (청담동)\n",
       "687    청담역점  강남구  서울 강남구 삼성로 721 (청담동, 룩희 819)\n",
       "688  포이사거리점  강남구          서울 강남구 개포로 218 (개포동)\n",
       "689    학동역점  강남구    서울 강남구 학동로 219 (논현동, 국제빌딩)\n",
       "690    한티역점  강남구         서울 강남구 도곡로69길 8 (대치동)"
      ]
     },
     "execution_count": 61,
     "metadata": {},
     "output_type": "execute_result"
    }
   ],
   "source": [
    "df_edi = pd.DataFrame(edi_info)\n",
    "df_edi.tail()"
   ]
  },
  {
   "cell_type": "code",
   "execution_count": 62,
   "metadata": {},
   "outputs": [],
   "source": [
    "star_count = []\n",
    "for item in gu_list:\n",
    "    n = len(df_star.loc[df_star['구']==item])\n",
    "    data = {\n",
    "        \"구\" : item,\n",
    "        \"스벅 매장수\" : n\n",
    "    }\n",
    "    star_count.append(data)\n",
    "df_star_count = pd.DataFrame(star_count)\n"
   ]
  },
  {
   "cell_type": "code",
   "execution_count": 63,
   "metadata": {},
   "outputs": [],
   "source": [
    "edi_count = []\n",
    "for item in gu_list:\n",
    "    n = len(df_edi.loc[df_edi['구']==item])\n",
    "    data = {\n",
    "        \"구\" : item,\n",
    "        \"이디야 매장수\" : n\n",
    "    }\n",
    "    edi_count.append(data)\n",
    "df_edi_count = pd.DataFrame(edi_count)\n"
   ]
  },
  {
   "cell_type": "code",
   "execution_count": 64,
   "metadata": {},
   "outputs": [],
   "source": [
    "sum_data = pd.merge(df_edi_count, df_star_count)\n",
    "sum_data[\"매장 수 차이\"] = sum_data[\"이디야 매장수\"] - sum_data[\"스벅 매장수\"]\n"
   ]
  },
  {
   "cell_type": "code",
   "execution_count": 65,
   "metadata": {},
   "outputs": [
    {
     "data": {
      "image/png": "[encoded data removed]",
      "text/plain": [
       "<Figure size 1440x1080 with 1 Axes>"
      ]
     },
     "metadata": {
      "needs_background": "light"
     },
     "output_type": "display_data"
    }
   ],
   "source": [
    "a = sum_data[\"매장 수 차이\"]\n",
    "y = \"ediya\"\n",
    "\n",
    "plt.figure(figsize=(20,15))\n",
    "plt.bar(sum_data[\"구\"], a, color = 'b', label =\"이디야 기준 매장수 차이\" )\n",
    "plt.title(\"구별 이디야, 스타벅스 매장수 차이\", fontsize = 20)\n",
    "plt.xlabel(\"구\", fontsize = 20)\n",
    "plt.legend(loc ='lower left', fontsize = 20)\n",
    "plt.show()\n"
   ]
  },
  {
   "cell_type": "code",
   "execution_count": null,
   "metadata": {},
   "outputs": [],
   "source": []
  },
  {
   "cell_type": "code",
   "execution_count": null,
   "metadata": {},
   "outputs": [],
   "source": []
  }
 ],
 "metadata": {
  "kernelspec": {
   "display_name": "Python 3.10.6 64-bit",
   "language": "python",
   "name": "python3"
  },
  "language_info": {
   "codemirror_mode": {
    "name": "ipython",
    "version": 3
   },
   "file_extension": ".py",
   "mimetype": "text/x-python",
   "name": "python",
   "nbconvert_exporter": "python",
   "pygments_lexer": "ipython3",
   "version": "3.10.6"
  },
  "orig_nbformat": 4,
  "vscode": {
   "interpreter": {
    "hash": "beedbe2faf2f7048d727558d0bc3221e7eba2a0b921cac4d4771b2feb8f74b30"
   }
  }
 },
 "nbformat": 4,
 "nbformat_minor": 2
}
